{
  "nbformat": 4,
  "nbformat_minor": 0,
  "metadata": {
    "colab": {
      "provenance": []
    },
    "kernelspec": {
      "name": "python3",
      "display_name": "Python 3"
    },
    "language_info": {
      "name": "python"
    }
  },
  "cells": [
    {
      "cell_type": "code",
      "source": [
        "from google.colab import drive\n",
        "drive.mount('/content/drive')"
      ],
      "metadata": {
        "colab": {
          "base_uri": "https://localhost:8080/"
        },
        "id": "VLSJnVYWKPWO",
        "outputId": "a5a47fea-edb1-48e2-fd69-a0d94761ac8f"
      },
      "execution_count": null,
      "outputs": [
        {
          "output_type": "stream",
          "name": "stdout",
          "text": [
            "Mounted at /content/drive\n"
          ]
        }
      ]
    },
    {
      "cell_type": "code",
      "source": [
        "from sklearn.metrics.pairwise import cosine_similarity "
      ],
      "metadata": {
        "id": "M_bLKXGGIU2_"
      },
      "execution_count": null,
      "outputs": []
    },
    {
      "cell_type": "code",
      "source": [
        "a = [[1,2,3,4,5,6,7,8,9,10]]\n",
        "b = [[1,2,3,4,5,6,7,8,10,9]]\n",
        "cosine_similarity(a,b)"
      ],
      "metadata": {
        "colab": {
          "base_uri": "https://localhost:8080/"
        },
        "id": "xfxT-dNgOgCp",
        "outputId": "941db7f9-c650-4dca-c892-a4249c1100e8"
      },
      "execution_count": null,
      "outputs": [
        {
          "output_type": "execute_result",
          "data": {
            "text/plain": [
              "array([[0.9974026]])"
            ]
          },
          "metadata": {},
          "execution_count": 10
        }
      ]
    },
    {
      "cell_type": "code",
      "execution_count": null,
      "metadata": {
        "id": "TDfzWJ6Q7EfJ"
      },
      "outputs": [],
      "source": [
        "import pandas as pd"
      ]
    },
    {
      "cell_type": "code",
      "source": [
        "data = pd.read_csv('/content/drive/MyDrive/my notes/machine learning/movie_dataset (1).csv')"
      ],
      "metadata": {
        "id": "oFsWJ5aA7X7v"
      },
      "execution_count": null,
      "outputs": []
    },
    {
      "cell_type": "code",
      "source": [
        "data.head()"
      ],
      "metadata": {
        "id": "eoxpEXFs7siq"
      },
      "execution_count": null,
      "outputs": []
    },
    {
      "cell_type": "code",
      "source": [
        "data.shape"
      ],
      "metadata": {
        "colab": {
          "base_uri": "https://localhost:8080/"
        },
        "id": "honAsMgmOFak",
        "outputId": "05adaccd-421b-427e-d537-69e8d454913a"
      },
      "execution_count": null,
      "outputs": [
        {
          "output_type": "execute_result",
          "data": {
            "text/plain": [
              "(4803, 24)"
            ]
          },
          "metadata": {},
          "execution_count": 14
        }
      ]
    },
    {
      "cell_type": "code",
      "source": [
        "# data.info()"
      ],
      "metadata": {
        "id": "5UTpLye77vEl"
      },
      "execution_count": null,
      "outputs": []
    },
    {
      "cell_type": "code",
      "source": [
        "data.isnull().sum()"
      ],
      "metadata": {
        "id": "91b87oaF75QP"
      },
      "execution_count": null,
      "outputs": []
    },
    {
      "cell_type": "code",
      "source": [
        "data.columns"
      ],
      "metadata": {
        "id": "iMBXZROT7_0V"
      },
      "execution_count": null,
      "outputs": []
    },
    {
      "cell_type": "code",
      "source": [
        "features = ['keywords','cast','genres','director']"
      ],
      "metadata": {
        "id": "QqZFaVy48ky5"
      },
      "execution_count": null,
      "outputs": []
    },
    {
      "cell_type": "code",
      "source": [
        "def combine_features(row):\n",
        "  return row['keywords'],\" \",row['cast'],\" \",row['genres'],\" \",row['director']"
      ],
      "metadata": {
        "id": "ll0JaaQN9LKs"
      },
      "execution_count": null,
      "outputs": []
    },
    {
      "cell_type": "code",
      "source": [
        "for feature in features:\n",
        "  data[feature] = data[feature].fillna('')"
      ],
      "metadata": {
        "id": "diByp5vt-Pg_"
      },
      "execution_count": null,
      "outputs": []
    },
    {
      "cell_type": "code",
      "source": [
        "data.isnull().sum()"
      ],
      "metadata": {
        "id": "ISYMtI3M_E3z"
      },
      "execution_count": null,
      "outputs": []
    },
    {
      "cell_type": "code",
      "source": [
        "data['combained_features'] = data.apply(combine_features,axis=1)"
      ],
      "metadata": {
        "id": "4S6zdYKc-kIi"
      },
      "execution_count": null,
      "outputs": []
    },
    {
      "cell_type": "code",
      "source": [
        "data['combained_features'].head(100)"
      ],
      "metadata": {
        "id": "fb4qZnQ-_Wvj"
      },
      "execution_count": null,
      "outputs": []
    },
    {
      "cell_type": "code",
      "source": [],
      "metadata": {
        "id": "TxbwAZliUN0W"
      },
      "execution_count": null,
      "outputs": []
    },
    {
      "cell_type": "code",
      "source": [
        "data['combained_features'][0]"
      ],
      "metadata": {
        "id": "QJPYzFWSKsBw"
      },
      "execution_count": null,
      "outputs": []
    },
    {
      "cell_type": "code",
      "source": [
        "data['combained_features'][1][0]"
      ],
      "metadata": {
        "colab": {
          "base_uri": "https://localhost:8080/",
          "height": 36
        },
        "id": "zIiagSr3TGtw",
        "outputId": "6bf7dbfc-66e5-465b-b666-a4666679aaca"
      },
      "execution_count": null,
      "outputs": [
        {
          "output_type": "execute_result",
          "data": {
            "text/plain": [
              "\"ocean drug abuse exotic island east india trading company love of one's life\""
            ],
            "application/vnd.google.colaboratory.intrinsic+json": {
              "type": "string"
            }
          },
          "metadata": {},
          "execution_count": 25
        }
      ]
    },
    {
      "cell_type": "code",
      "source": [
        "data.head()"
      ],
      "metadata": {
        "id": "7mXXnoFk_EI4"
      },
      "execution_count": null,
      "outputs": []
    },
    {
      "cell_type": "code",
      "source": [
        "features = data['combained_features']"
      ],
      "metadata": {
        "id": "eceSJImABCKK"
      },
      "execution_count": null,
      "outputs": []
    },
    {
      "cell_type": "code",
      "source": [
        "from sklearn.feature_extraction.text import CountVectorizer  # unique values depending on the words\n",
        "from sklearn.metrics.pairwise import cosine_similarity # relation between the values"
      ],
      "metadata": {
        "id": "nTIOlfu__Hos"
      },
      "execution_count": null,
      "outputs": []
    },
    {
      "cell_type": "code",
      "source": [
        "cv = CountVectorizer()\n",
        "cont_metrix = cv.fit_transform(list(zip(*features))[0])"
      ],
      "metadata": {
        "id": "z_CrOyJl_q2I"
      },
      "execution_count": null,
      "outputs": []
    },
    {
      "cell_type": "code",
      "source": [
        "print(cont_metrix)"
      ],
      "metadata": {
        "id": "gzpx4wT2L3Lb"
      },
      "execution_count": null,
      "outputs": []
    },
    {
      "cell_type": "code",
      "source": [
        "cont_metrix.shape"
      ],
      "metadata": {
        "colab": {
          "base_uri": "https://localhost:8080/"
        },
        "id": "jX6ZPvCvbx99",
        "outputId": "21d416a7-31d8-4cec-f226-82d4453687c3"
      },
      "execution_count": null,
      "outputs": [
        {
          "output_type": "execute_result",
          "data": {
            "text/plain": [
              "(4803, 4348)"
            ]
          },
          "metadata": {},
          "execution_count": 30
        }
      ]
    },
    {
      "cell_type": "code",
      "source": [
        "cosine = cosine_similarity(cont_metrix)"
      ],
      "metadata": {
        "id": "zeJmscKSCPA8"
      },
      "execution_count": null,
      "outputs": []
    },
    {
      "cell_type": "code",
      "source": [
        "cosine[2][2]"
      ],
      "metadata": {
        "colab": {
          "base_uri": "https://localhost:8080/"
        },
        "id": "W-hE-bZ7VjXC",
        "outputId": "f229fd27-6df9-4da5-d21b-4e1a93909698"
      },
      "execution_count": null,
      "outputs": [
        {
          "output_type": "execute_result",
          "data": {
            "text/plain": [
              "0.9999999999999999"
            ]
          },
          "metadata": {},
          "execution_count": 47
        }
      ]
    },
    {
      "cell_type": "code",
      "source": [
        "def get_title_from_index(index):\n",
        "  return data[data.index == index]['title'].values[0]\n",
        "def get_index_from_title(title):\n",
        "  return data[data.title == title]['index'].values[0]"
      ],
      "metadata": {
        "id": "HSRl18jDCa-5"
      },
      "execution_count": null,
      "outputs": []
    },
    {
      "cell_type": "code",
      "source": [
        "# data[data.index == 0][\"title\"].values[0]"
      ],
      "metadata": {
        "id": "oPspW5UHUlu8"
      },
      "execution_count": null,
      "outputs": []
    },
    {
      "cell_type": "code",
      "source": [
        "# data[data.index == 2]['title'].values[0]"
      ],
      "metadata": {
        "id": "ORWR6ZFFUuWC"
      },
      "execution_count": null,
      "outputs": []
    },
    {
      "cell_type": "code",
      "source": [
        "movie_user_like = \"Pirates of the Caribbean: At World's End\"\n",
        "movie_index = get_index_from_title(movie_user_like)\n",
        "print(movie_index)\n",
        "\n",
        "similar_movies = list(enumerate(cosine[movie_index]))"
      ],
      "metadata": {
        "colab": {
          "base_uri": "https://localhost:8080/"
        },
        "id": "fHqTGgbeGd85",
        "outputId": "479fcd66-2f61-41af-dfc4-c4e54bec727e"
      },
      "execution_count": null,
      "outputs": [
        {
          "output_type": "stream",
          "name": "stdout",
          "text": [
            "1\n"
          ]
        }
      ]
    },
    {
      "cell_type": "code",
      "source": [
        "similar_movies"
      ],
      "metadata": {
        "id": "j_Vbw9-RHLwh"
      },
      "execution_count": null,
      "outputs": []
    },
    {
      "cell_type": "code",
      "source": [
        "sorted_similar_movies = sorted(similar_movies,key=lambda x:x[1],reverse=True)[1:] #not giving 0 becz the zeroth index is the \n",
        "                                                                                # movie itself\n",
        "                                                                                  #x[1]--> to get cosine_similarity"
      ],
      "metadata": {
        "id": "OrQQYI4XHefY"
      },
      "execution_count": null,
      "outputs": []
    },
    {
      "cell_type": "code",
      "source": [
        "sorted_similar_movies"
      ],
      "metadata": {
        "id": "b3Qv6OmVDgJx"
      },
      "execution_count": null,
      "outputs": []
    },
    {
      "cell_type": "code",
      "source": [
        "i=0\n",
        "print('The top 5 movies that are similar to',movie_user_like,'are:\\n')\n",
        "for movies in sorted_similar_movies:\n",
        "  print(get_title_from_index(movies[0]))\n",
        "  i+=1\n",
        "  if i>4:\n",
        "    break"
      ],
      "metadata": {
        "id": "d2bo4mKKJhMo"
      },
      "execution_count": null,
      "outputs": []
    },
    {
      "cell_type": "code",
      "source": [],
      "metadata": {
        "id": "U98UYts3D1bq"
      },
      "execution_count": null,
      "outputs": []
    },
    {
      "cell_type": "code",
      "source": [
        "i=0\n",
        "print('The top 5 movies that are similar to',movie_user_like,'are:\\n')\n",
        "for movies in sorted_similar_movies:\n",
        "  print(get_title_from_index(movies[0]))\n",
        "  i+=1\n",
        "  if i>4:\n",
        "    break"
      ],
      "metadata": {
        "id": "6boB5s8RLjGz"
      },
      "execution_count": null,
      "outputs": []
    },
    {
      "cell_type": "code",
      "source": [],
      "metadata": {
        "id": "EeIGDTA8XPRi"
      },
      "execution_count": null,
      "outputs": []
    }
  ]
}